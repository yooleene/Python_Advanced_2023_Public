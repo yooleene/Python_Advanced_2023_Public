{
 "cells": [
  {
   "attachments": {},
   "cell_type": "markdown",
   "metadata": {},
   "source": [
    "### 1. Workbook 객체에 내용을 넣어 엑셀 파일로 저장하기"
   ]
  },
  {
   "cell_type": "code",
   "execution_count": null,
   "metadata": {},
   "outputs": [],
   "source": []
  },
  {
   "cell_type": "code",
   "execution_count": null,
   "metadata": {},
   "outputs": [],
   "source": []
  },
  {
   "cell_type": "code",
   "execution_count": null,
   "metadata": {},
   "outputs": [],
   "source": []
  },
  {
   "cell_type": "code",
   "execution_count": null,
   "metadata": {},
   "outputs": [],
   "source": []
  },
  {
   "cell_type": "code",
   "execution_count": null,
   "metadata": {},
   "outputs": [],
   "source": []
  },
  {
   "cell_type": "code",
   "execution_count": null,
   "metadata": {},
   "outputs": [],
   "source": []
  },
  {
   "attachments": {},
   "cell_type": "markdown",
   "metadata": {},
   "source": [
    "### 2. 저장된 엑셀 파일 불러와 내용 접근/수정하기"
   ]
  },
  {
   "cell_type": "code",
   "execution_count": null,
   "metadata": {},
   "outputs": [],
   "source": []
  },
  {
   "cell_type": "code",
   "execution_count": null,
   "metadata": {},
   "outputs": [],
   "source": []
  },
  {
   "cell_type": "code",
   "execution_count": null,
   "metadata": {},
   "outputs": [],
   "source": []
  },
  {
   "cell_type": "code",
   "execution_count": null,
   "metadata": {},
   "outputs": [],
   "source": []
  },
  {
   "cell_type": "code",
   "execution_count": null,
   "metadata": {},
   "outputs": [],
   "source": []
  },
  {
   "cell_type": "code",
   "execution_count": null,
   "metadata": {},
   "outputs": [],
   "source": []
  },
  {
   "cell_type": "code",
   "execution_count": null,
   "metadata": {},
   "outputs": [],
   "source": []
  },
  {
   "cell_type": "code",
   "execution_count": null,
   "metadata": {},
   "outputs": [],
   "source": []
  },
  {
   "cell_type": "code",
   "execution_count": null,
   "metadata": {},
   "outputs": [],
   "source": []
  },
  {
   "attachments": {},
   "cell_type": "markdown",
   "metadata": {},
   "source": [
    "### 3. 엑셀 서식 조정하기"
   ]
  },
  {
   "cell_type": "code",
   "execution_count": 57,
   "metadata": {},
   "outputs": [],
   "source": [
    "from openpyxl.styles import Font, PatternFill, Alignment, Side, Border\n",
    "\n",
    "wb = load_workbook(\"data_set/인원 리스트.xlsx\")\n",
    "ws = wb[\"Sheet1\"]\n",
    "\n",
    "\n",
    "for row_idx, row in enumerate(ws):\n",
    "    for cell in row:\n",
    "        if row_idx == 0:\n",
    "            cell.font = Font(color=\"FFFFFF\", sz=12, b=True)\n",
    "            cell.fill = PatternFill(fill_type=\"solid\", start_color=\"0064FF\") \n",
    "            cell.alignment = Alignment(horizontal=\"center\", vertical=\"center\") \n",
    "            side_style = Side(style=\"dotted\", color=\"898989\")\n",
    "            cell.border = Border(left=side_style, right=side_style, top=side_style, bottom=side_style) #셀 테두리를 위의 내용으로 설정\n",
    "        else:\n",
    "            cell.alignment = Alignment(horizontal=\"center\", vertical=\"center\")\n",
    "            side_style = Side(style=\"medium\", color=\"898989\")\n",
    "            cell.border = Border(left=side_style, right=side_style, top=side_style, bottom=side_style)\n",
    "\n",
    "wb.save(\"인원 리스트_서식조정 결과.xlsx\")"
   ]
  },
  {
   "attachments": {},
   "cell_type": "markdown",
   "metadata": {},
   "source": [
    "### 4. 엑셀 행높이/열너비 조정하기"
   ]
  },
  {
   "cell_type": "code",
   "execution_count": 69,
   "metadata": {},
   "outputs": [],
   "source": [
    "wb = load_workbook(\"data_set/인원 리스트_서식조정 결과.xlsx\")\n",
    "ws = wb[\"Sheet1\"]\n",
    "\n",
    "for i in range(1, 12):\n",
    "    ws.row_dimensions[i].height = 30\n",
    "\n",
    "ws.column_dimensions[\"A\"].width = 8\n",
    "ws.column_dimensions[\"B\"].width = 8\n",
    "ws.column_dimensions[\"C\"].width = 22\n",
    "ws.column_dimensions[\"D\"].width = 16\n",
    "ws.column_dimensions[\"E\"].width = 28\n",
    "ws.column_dimensions[\"F\"].width = 18\n",
    "\n",
    "wb.save(\"data_set/인원 리스트_높이너비 조정 결과.xlsx\")"
   ]
  }
 ],
 "metadata": {
  "kernelspec": {
   "display_name": "Python 3.8.10 64-bit",
   "language": "python",
   "name": "python3"
  },
  "language_info": {
   "codemirror_mode": {
    "name": "ipython",
    "version": 3
   },
   "file_extension": ".py",
   "mimetype": "text/x-python",
   "name": "python",
   "nbconvert_exporter": "python",
   "pygments_lexer": "ipython3",
   "version": "3.8.10"
  },
  "orig_nbformat": 4,
  "vscode": {
   "interpreter": {
    "hash": "e2782e0ab7cab974e8fb2dfc8cec048a29dc3b50e54743df0c4a34ac41b2be7e"
   }
  }
 },
 "nbformat": 4,
 "nbformat_minor": 2
}
